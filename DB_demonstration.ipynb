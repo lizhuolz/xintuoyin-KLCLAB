{
 "cells": [
  {
   "cell_type": "markdown",
   "id": "2240f720",
   "metadata": {},
   "source": [
    "# DB主要接口展示"
   ]
  },
  {
   "cell_type": "code",
   "execution_count": 1,
   "id": "10cfbe46",
   "metadata": {},
   "outputs": [
    {
     "name": "stderr",
     "output_type": "stream",
     "text": [
      "d:\\anaconda3\\envs\\xintuoyin\\lib\\site-packages\\tqdm\\auto.py:21: TqdmWarning: IProgress not found. Please update jupyter and ipywidgets. See https://ipywidgets.readthedocs.io/en/stable/user_install.html\n",
      "  from .autonotebook import tqdm as notebook_tqdm\n"
     ]
    }
   ],
   "source": [
    "from DB import DB"
   ]
  },
  {
   "cell_type": "code",
   "execution_count": 2,
   "id": "a2e77bd7",
   "metadata": {},
   "outputs": [
    {
     "name": "stderr",
     "output_type": "stream",
     "text": [
      "Loading checkpoint shards: 100%|██████████| 4/4 [00:06<00:00,  1.52s/it]\n",
      "d:\\anaconda3\\envs\\xintuoyin\\lib\\site-packages\\transformers\\generation\\configuration_utils.py:628: UserWarning: `do_sample` is set to `False`. However, `temperature` is set to `0` -- this flag is only used in sample-based generation modes. You should set `do_sample=True` or unset `temperature`. This was detected when initializing the generation config instance, which means the corresponding file may hold incorrect parameterization and should be fixed.\n",
      "  warnings.warn(\n",
      "d:\\anaconda3\\envs\\xintuoyin\\lib\\site-packages\\transformers\\generation\\configuration_utils.py:628: UserWarning: `do_sample` is set to `False`. However, `temperature` is set to `0` -- this flag is only used in sample-based generation modes. You should set `do_sample=True` or unset `temperature`.\n",
      "  warnings.warn(\n"
     ]
    }
   ],
   "source": [
    "LLM_path = \"../../../../LLM/llama-3-sqlcoder-8b\"\n",
    "db = DB(sqlcoder_path=LLM_path)"
   ]
  },
  {
   "cell_type": "markdown",
   "id": "46e14b97",
   "metadata": {},
   "source": [
    "## 获取整个数据库的表信息 get_database_comments()"
   ]
  },
  {
   "cell_type": "code",
   "execution_count": 3,
   "id": "62a4ae6b",
   "metadata": {},
   "outputs": [
    {
     "name": "stdout",
     "output_type": "stream",
     "text": [
      "attendance_employee (新拓银_人事板块_考勤组人员关联表): [id, 考勤组id, 员工id, 部门id, 加入时间, 移除时间, 移除状态, 创建者, 创建时间, 更新者, 更新时间, 是否删除, 租户编号]\n",
      "\n",
      "attendance_employee_project_hour (新拓银_人事板块_考勤人员_研发工时记录表): [id, 考勤组id, 人员id, 项目id, 排班id, 研发内容, 记录工时, 年, 月, 日, 开始时间, 结束时间, 创建者, 创建时间, 更新者, 更新时间, 是否删除, 租户编号]\n",
      "\n",
      "attendance_employee_project_hour_period (新拓银_人事板块_考勤人员_研发工时日志_记录表): [主键ID, 研发工时主表ID, 项目id, 研发内容, 开始时间, 结束时间, 记录工时, 创建者, 创建时间, 更新者, 更新时间, 是否删除, 租户编号]\n",
      "\n",
      "attendance_group (新拓银_人事板块_考勤组信息表): [id, 企业id, 考勤组名字, 考勤组样式，0 代表固定排班，1 代表周期排班, 加入时间, 使用状态, 考勤排序, 创建者, 创建时间, 更新者, 更新时间, 是否删除, 租户编号]\n",
      "\n",
      "attendance_group_style (新拓银_人事板块_考勤组类型详情表): [id, 企业id, 考勤组名字, 考勤组样式，0 代表固定排班，1 代表周期排班, 加入时间, 使用状态, 周期名字, 周期天数, 法定节假日是否自动排班, 是否跟随考勤组创建, 考勤排序, 创建者, 创建时间, 更新者, 更新时间, 是否删除, 租户编号]\n",
      "\n",
      "attendance_leave_overtime_records (新拓银_人事板块_考勤管理_加班/请假): [, 类型（加班OVERTIME；请假LEAVE）, 企业ID, 员工ID, 部门id, 排班id, 加班/请假日期, 开始时间, 结束时间, 加班时长(小时), 加班原因, 状态:1有效,0无效, 创建者, 创建时间, 更新者, 更新时间, 是否删除, 租户编号]\n",
      "\n",
      "attendance_shift_employee_schedule (新拓银_人事板块_考勤人员日期班次表): [id, 考勤组id, 员工id, 排班id, 记录时间, 记录工时, 年份, 月份, 当月第几天, 是否已自定义排班  true是已自定义当月排班，false没自定义, 创建者, 创建时间, 更新者, 更新时间, 是否删除, 租户编号]\n",
      "\n",
      "attendance_shift_schedule (新拓银_人事板块_考勤日期班次表): [, 考勤id, 班次id, 记录时间, 记录工时, 年份, 月份, 当月第几天, 是否手动修改状态, 创建者, 创建时间, 更新者, 更新时间, 是否删除, 租户编号]\n",
      "\n",
      "attendance_shift_setting (新拓银_人事板块_考勤管理_班次表): [id, 班次名称, 使用状态, 上班开始时间, 下班结束时间, 是否包含休息[0:否 1:是], 休息开始时间, 休息结束时间, 记录工时, 创建者, 创建时间, 更新者, 更新时间, 是否删除, 租户编号]\n",
      "\n",
      "employee_award_config (新拓银_配置中心_人事配置_奖金配置表): [主键ID, 人事类别, 奖金名称, 开始日期(格式:MMDD), 结束日期(格式:MMDD), 关联科目代码id, 关联科目代码, 关联科目名称, 删除状态（true 可以；false不可以）, 修改状态（true 可以；false不可以）, 创建时间, 创建者, 更新时间, 更新者, 是否删除, 租户编号]\n",
      "\n",
      "employee_config (新拓银_配置中心_人事配置分类): [id, 人事类别(成员管理0、奖金配置1、社保配置2、福利费类型3）, 管理名字, 描述, 租户编号]\n",
      "\n",
      "employee_social_insurance_config (新拓银_配置中心_人事配置_社保配置表): [主键ID, 人事类别, 社保类型, 社保标识code, 是否启用 1-启用 0-禁用, 创建时间, 创建者, 更新时间, 更新者, 是否删除, 租户编号]\n",
      "\n",
      "employee_welfare_config (新拓银_配置中心_人事配置_福利费用配置表): [主键ID, 人事类别, 福利费名称, 状态 1-是 0-否, 创建时间, 创建者, 更新时间, 更新者, 是否删除, 租户编号]\n",
      "\n",
      "enterprise_business (新拓银_我的企业_企业主营业务): [id, 企业id, 主营业务, 业务分类，1固定选项，2自定义, 排序, 扩展主营业务, 创建时间, 创建者, 更新时间, 更新者, 是否删除, 租户编号]\n",
      "\n",
      "enterprise_industry (新拓银_我的企业_企业资料_行业选择): [id, , , , , , ]\n",
      "\n",
      "enterprise_info (新拓银_我的企业_企业资料_基础信息): [id, 天眼查企业id, 企业名称(企业名), 法定代表人名称(法人), 经营状态(企业状态), 公司类型(企业类型), 核准日期(核准时间), 营业期限-开始时间(经营开始时间), 营业期限-结束时间(经营结束时间), 经营范围, 统一社会信用代码, 注册资本, 成立日期, 所属行业, 主营业务, 所属地区-省(省份简称), 所属地区-市(市), 所属地区-区(区), 企业地址(注册地址), 营业执照地址, 创建时间, 创建者, 更新时间, 更新者, 是否删除, 租户编号]\n",
      "\n",
      "enterprise_patent (新拓银_企业资料_专利信息): [id, 公开编号, 专利名称, 专利类型, 专利状态, 法律状态, 申请时间, 申请号, 公开时间, 发明者, 企业id, 是否质押, 创建时间, 创建者, 更新时间, 更新者, 是否删除, 租户编号]\n",
      "\n",
      "enterprise_pledge (新拓银_我的企业_专利质押信息表): [主键ID, 公开编号, 国家/地区, 专利代码, 出质人, 质权人, 登记备案号, 质押保全类型, 质押生效日期, 创建时间, 创建者, 更新时间, 更新者, 是否删除, 租户编号]\n",
      "\n",
      "enterprise_soft_works (新拓银_企业软著信息): [id, 批准日期, 软件全称, 软件简称, 登记号, 分类号, 版本号, 企业id, 是否质押, 创建时间, 创建者, 更新时间, 更新者, 是否删除, 租户编号]\n",
      "\n",
      "feedback (新拓银_反馈管理_反馈意见表): [主键ID, 反馈人id, 反馈人姓名, 联系方式, 所属企业, 反馈类型, 反馈内容, , 状态(0:未处理 1:已处理), 创建时间, 创建者, 更新时间, 更新者, 是否删除, 租户编号]\n",
      "\n",
      "feedback_image (新拓银_反馈管理_反馈图片表): [主键ID, 反馈ID, 图片URL, 创建时间, 创建者, 更新时间, 更新者, 是否删除, 租户编号]\n",
      "\n",
      "feedback_type (新拓银_反馈管理_反馈类型字典表): [主键ID, 类型名称, 类型编码(功能异常 FUNCTION_ERROR；产品建议:PRODUCT_SUGGESTION；业务规则需求:BUSINESS_RULE；易用性需求:USABILITY； 安全性需求:SECURITY； 响应速度需求:PERFORMANCE； 美观性需求:UI_BEAUTY, 排序号, 状态(0:禁用 1:启用), 创建时间, 创建者, 更新时间, 更新者, 是否删除, 租户编号]\n",
      "\n",
      "finance_classify (新拓银_配置中心_科目/费用分类管理): [id, 财务类别, 分类名称, 分类单位, 使用状态, 排序顺序（1-10；1优先级最高，10优先级最低）, 修改状态（true 可以；false不可以）, 删除状态（true 可以；false不可以）, 查看状态（true 可以；false不可以）, 更新时间, 租户编号]\n",
      "\n",
      "finance_config (新拓银_配置中心_财务配置): [id, 人事类型(成员管理0、奖金配置1、社保配置2、福利费配置3）, 管理名字, 描述, 租户编号]\n",
      "\n",
      "infra_api_access_log (API 访问日志表): [日志主键, 链路追踪编号, 用户编号, 用户类型, 应用名, 请求方法名, 请求地址, 请求参数, 响应结果, 用户 IP, 浏览器 UA, 操作模块, 操作名, 操作分类, 开始请求时间, 结束请求时间, 执行时长, 结果码, 结果提示, 创建者, 创建时间, 更新者, 更新时间, 是否删除, 租户编号]\n",
      "\n",
      "infra_api_error_log (系统异常日志): [编号, 链路追踪编号, 用户编号, 用户类型, 应用名, 请求方法名, 请求地址, 请求参数, 用户 IP, 浏览器 UA, 异常发生时间, 异常名, 异常导致的消息, 异常导致的根消息, 异常的栈轨迹, 异常发生的类全名, 异常发生的类文件, 异常发生的方法名, 异常发生的方法所在行, 处理状态, 处理时间, 处理用户编号, 创建者, 创建时间, 更新者, 更新时间, 是否删除, 租户编号]\n",
      "\n",
      "infra_codegen_column (代码生成表字段定义): [编号, 表编号, 字段名, 字段类型, 字段描述, 是否允许为空, 是否主键, 排序, Java 属性类型, Java 属性名, 字典类型, 数据示例, 是否为 Create 创建操作的字段, 是否为 Update 更新操作的字段, 是否为 List 查询操作的字段, List 查询操作的条件类型, 是否为 List 查询操作的返回字段, 显示类型, 创建者, 创建时间, 更新者, 更新时间, 是否删除]\n",
      "\n",
      "infra_codegen_table (新拓银_企业专利信息): [编号, 数据源配置的编号, 生成场景, 表名称, 表描述, 备注, 模块名, 业务名, 类名称, 类描述, 作者, 模板类型, 前端类型, 父菜单编号, 主表的编号, 子表关联主表的字段编号, 主表与子表是否一对多, 树表的父字段编号, 树表的名字字段编号, 创建者, 创建时间, 更新者, 更新时间, 是否删除]\n",
      "\n",
      "infra_config (参数配置表): [参数主键, 参数分组, 参数类型, 参数名称, 参数键名, 参数键值, 是否可见, 备注, 创建者, 创建时间, 更新者, 更新时间, 是否删除]\n",
      "\n",
      "infra_data_source_config (数据源配置表): [主键编号, 参数名称, 数据源连接, 用户名, 密码, 创建者, 创建时间, 更新者, 更新时间, 是否删除]\n",
      "\n",
      "infra_file (文件表): [文件编号, 配置编号, 文件名, 文件路径, 文件 URL, 文件类型, 文件大小, 创建者, 创建时间, 更新者, 更新时间, 是否删除]\n",
      "\n",
      "infra_file_config (文件配置表): [编号, 配置名, 存储器, 备注, 是否为主配置, 存储配置, 创建者, 创建时间, 更新者, 更新时间, 是否删除]\n",
      "\n",
      "infra_file_content (文件表): [编号, 配置编号, 文件路径, 文件内容, 创建者, 创建时间, 更新者, 更新时间, 是否删除]\n",
      "\n",
      "infra_job (定时任务表): [任务编号, 任务名称, 任务状态, 处理器的名字, 处理器的参数, CRON 表达式, 重试次数, 重试间隔, 监控超时时间, 创建者, 创建时间, 更新者, 更新时间, 是否删除]\n",
      "\n",
      "infra_job_log (定时任务日志表): [日志编号, 任务编号, 处理器的名字, 处理器的参数, 第几次执行, 开始执行时间, 结束执行时间, 执行时长, 任务状态, 结果数据, 创建者, 创建时间, 更新者, 更新时间, 是否删除]\n",
      "\n",
      "proj_mgt_project (新拓银_项目管理_项目): [ id, 操作人id, 所属部门ID, 项目是否被关联（true关联,false是不关联), 项目状态[0:进行中 1:已结束 2:未开始 3:草稿箱], 研发属性-是否企业产品(服务)的常规性升级[0:否 1:是], 研发属性-是否对某项科研成果的直接应用[0:否 1:是], 研发属性-是否企业在商品化后为顾客提供的技术支持活动[0:否 1:是], 研发属性-是否对现存产品流程进行的重复或简单改变[0:否 1:是], 研发属性-是否市场调查研究、效率调查或管理研究[0:否 1:是], 研发属性-是否作为工业(服务)流程环节或常规的质量控制、测试分析、维修维护[0:否 1:是], 立项信息-项目研发序列号, 立项信息-项目研发编号, 立项信息-项目研发年份, 立项信息-项目研发类型, 立项信息-项目名称, 立项信息-项目来源[0:本企业自研项目 1:国家级科技项目 2:省级科技项目 3:市级科技项目 4:区县级科技项目 5:其他企业(单位)委托研发 6:境外项目 7:其他项目], 立项信息-项目负责人, 立项信息-项目负责人id, 立项信息-研发项目总预算(元), 立项信息-其中政府资金(元), 立项信息-项目类型[0:自主研发 1:委托研发 2:合作研发 3:集中研发], 立项信息-委托/合作研发类型[0:境内研究机构/个人 1:境外机构 2:境内高等学校 3:境内企业 4:境外个人], 立项信息-技术领域, 立项信息-受托/合作/集团公司名称, 立项信息-是否存在关联关系[0:否 1:是], 立项信息-委托/合作/集中研发合同, 立项信息-委托/合作/集中研发合同-文件名, 立项信息-费用明细表, 立项信息-费用明细表-文件名, 文件生成-申请人, 文件生成-申请人userid, 文件生成-申请日期, 文件生成-项目周期-开始时间, 文件生成-项目周期-结束时间, 文件生成-资本化节点, 文件生成-资本化节点是否使用(ture使用，false不使用), 文件生成-主要技术经济目标[0:科学原理的探素、发现 1:技术原理的研究 2:开发全新产品 3:增加产品功能或提高性能 4:提高劳动生产率 5:减少能源消耗或提高能源使用效率 6:节约原材料 7:减少环境污染 8:其他], 文件生成-项目周期-项目主要研究内容, 文件生成-项目周期-研发关键技术, 文件生成-项目周期-研发预期目标, 文件生成-项目立项决议书, 文件生成-项目立项决议书-文件名, 文件生成-项目立项报告, 文件生成-项目立项报告-文件名, 文件生成-项目计划任务书, 文件生成-项目计划任务书-文件名, 文件生成-科技行政部门鉴定意见, 文件生成-科技行政部门鉴定意见-文件名, 文件生成-科技部门登记合同, 文件生成-科技部门登记合同-文件名, 创建者, 创建时间, 更新者, 更新时间, 是否删除, 租户编号]\n",
      "\n",
      "proj_mgt_project_acceptance (新拓银_项目管理_项目验收记录表): [id, 验收类型(1阶段性验收/2结题验收), 项目id, 验收时间, 验收人员Id, 验收内容, 验收结论, 验收附件URL名字, 验收附件URL, 创建时间, 更新时间, 创建人, 更新人, 是否删除, 租户编号]\n",
      "\n",
      "proj_mgt_project_achievement (新拓银_项目管理_成果管理表): [id, 项目id, 成果名称, 成果证书号, 成果类型, 成果水平, 获得时间, 获取方式(1自主研发/0合作研发), 附件URL, 附件URL名字, 专利号, 申请号, 申请日期, 分类号, 发明人, 申请(权利)人, 摘要, 创建时间, 更新时间, 创建人, 更新人, 是否删除, 租户编号]\n",
      "\n",
      "proj_mgt_project_asset (新拓银_项目管理_项目资产关系): [id, 资产id, 项目id, 类型：1项目设备；2项目建筑物；3项目无形资产, 是否关联组合资产, 创建者, 创建时间, 更新者, 更新时间, 是否删除, 租户编号]\n",
      "\n",
      "proj_mgt_project_asset_combination (新拓银_项目管理_项目资产_组合资产关系): [id, 组合资产id, 资产id, 项目id, 类型：1项目设备；2项目建筑物；3项目无形资产, 资产类型  1建筑物，其他的不是建筑物, 创建者, 创建时间, 更新者, 更新时间, 是否删除, 租户编号]\n",
      "\n",
      "proj_mgt_project_association (新拓银_项目管理_项目_子项目表): [id, 关联主项目id, 项目id, 项目名字, 创建者, 创建时间, 更新者, 更新时间, 是否删除, 租户编号]\n",
      "\n",
      "proj_mgt_project_director (新拓银_项目管理_项目_负责人): [id, 项目id, 负责人id, 负责人昵称, 岗位ID, 所属部门ID, 创建者, 创建时间, 更新者, 更新时间, 是否删除, 租户编号]\n",
      "\n",
      "proj_mgt_project_employee (新拓银_项目管理_项目人员关系): [id, 员工id, 部门id, 项目id, 考勤组id, 创建者, 创建时间, 更新者, 更新时间, 是否删除, 租户编号]\n",
      "\n",
      "proj_mgt_project_material_fuel (新拓银_项目管理_材料和燃料管理表): [, 项目id, 类型：MATERIAL/FUEL, 领料时间, 单据编号, 材料/燃料名称, 规格型号, 金额（元）, 消耗数量, 单位/单位, 单价, 创建者, 创建时间, 更新者, 更新时间, 是否删除, 租户编号]\n",
      "\n",
      "proj_mgt_project_milestone (新拓银_项目管理_项目_里程碑): [id, 项目id, 名字, 时间, 所属阶段, 创建者, 创建时间, 更新者, 更新时间, 是否删除, 租户编号]\n",
      "\n",
      "proj_mgt_project_power (新拓银_项目管理_项目动力): [id, 资产id, 项目id, 年, 月, 研发工时, 总金额, 核算详情\n",
      ", 核算状态, 创建者, 创建时间, 更新者, 更新时间, 是否删除, 租户编号]\n",
      "\n",
      "proj_mgt_project_prepare (新拓银_项目管理_项目_项目筹备管理): [id, 项目id, 记录类型[0:检索记录 1:论证记录 2:调研记录], 检索人员/论证专家/调研人员, 检索/论证/调研内容, 立项结论, 检索/论证/调研开始时间, 检索/论证/调研结束时间, 检索/论证/调研地点, 检索/论证/调研报告 文件名, 检索/论证/调研报告, 创建者, 创建时间, 更新者, 更新时间, 是否删除, 租户编号]\n",
      "\n",
      "proj_mgt_project_property (新拓银_项目管理_项目_项目资产): [id, 编号, 名称, 规格, 资产类型, 用途, 考勤工时, 研发总工时, 关联资产id, 资产类型(1项目设备;2项目建筑物;3项目无形资产;项目组合资产), 创建者, 创建时间, 更新者, 更新时间, 是否删除, 租户编号]\n",
      "\n",
      "qrtz_blob_triggers (): [, , , ]\n",
      "\n",
      "qrtz_calendars (): [, , ]\n",
      "\n",
      "qrtz_cron_triggers (): [, , , , ]\n",
      "\n",
      "qrtz_fired_triggers (): [, , , , , , , , , , , , ]\n",
      "\n",
      "qrtz_job_details (): [, , , , , , , , , ]\n",
      "\n",
      "qrtz_locks (): [, ]\n",
      "\n",
      "qrtz_paused_trigger_grps (): [, ]\n",
      "\n",
      "qrtz_scheduler_state (): [, , , ]\n",
      "\n",
      "qrtz_simple_triggers (): [, , , , , ]\n",
      "\n",
      "qrtz_simprop_triggers (): [, , , , , , , , , , , , , ]\n",
      "\n",
      "qrtz_triggers (): [, , , , , , , , , , , , , , , ]\n",
      "\n",
      "statistics (): [主建 ID, 名称, 文件连接, 类型, 租户编号, 创建时间, 更新时间]\n",
      "\n",
      "subjects_config (新拓银_配置中心_科目配置): [id, 科目代码, 科目名称, 1资本化，2费用化, 所属科目类别id, 是否记录研发成本, 操作状态(编辑 0；查看1）, 是否是初始化字段, 创建者, 创建时间, 更新者, 更新时间, 是否删除, 租户编号]\n",
      "\n",
      "subjects_cost (新拓银_配置中心_费用分类管理): [id, 费用编号, 费用名称, 所属科目类别id, 关联科目id, 关联科目code, 关联科目名称, 操作状态(编辑 0；查看1）, 创建者, 创建时间, 更新者, 更新时间, 是否删除, 租户编号]\n",
      "\n",
      "subjects_cost_relation (新拓银_配置中心_费用关联科目表): [id, 科目id, 费用id, 租户编号]\n",
      "\n",
      "subjects_relation (新拓银_配置中心_科目关系表): [id, 科目id, 科目父类id, 科目子类id, 科目等级（1一级；2二级；3三级；4四级）, 租户编号]\n",
      "\n",
      "system_ai_conversation (新拓银_ai会话管理): [id, 用户编号, 会话编号, 模型, 会话内容, 创建时间, 创建人, 更新时间, 更新人, 是否删除, 租户ID]\n",
      "\n",
      "system_ai_conversation_content (新拓银_ai会话内容详情): [id, 会话id, 用户id, 回复消息编号, 角色, 模型, 会话内容, 创建时间, 创建人, 更新时间, 更新人, 是否删除, 租户ID]\n",
      "\n",
      "system_cost (新拓银_财务板块_费用明细): [id, 1资本化，2费用化, 科目id, 科目代码, 科目名称, 费用id, 费用代码, 费用名称, 关联发票id, 归集状态(1已归集;2未归集;3部分未归集), 年份, 月份, 创建者, 创建时间, 更新者, 更新时间, 是否删除, 租户编号]\n",
      "\n",
      "system_cost_project (新拓银_财务板块_费用明细_项目关系): [id, 费用明细id, 项目id, 租户编号]\n",
      "\n",
      "system_cost_voucher (新拓银_财务板块_费用明细_凭证关系): [id, 费用明细id, 凭证id, 租户编号]\n",
      "\n",
      "system_declare_file (新拓银_R&D申报管理_申报文件地址): [主键id, 年, 文件地址, 文件名字, ture是加计扣除，false是RD, 创建者, 创建时间, 更新者, 更新时间, 是否删除, 租户编号]\n",
      "\n",
      "system_dept (部门表): [部门id, 部门名称, 父部门id, 显示顺序, 负责人, 联系电话, 邮箱, 部门状态（0正常 1停用）, 考勤组id, 创建者, 创建时间, 更新者, 更新时间, 是否删除, 租户编号]\n",
      "\n",
      "system_dept_employee (新拓银_部门员工关系表): [id, 部门id, 员工id, 租户编号]\n",
      "\n",
      "system_dict_data (字典数据表): [字典编码, 字典排序, 字典标签, 字典键值, 字典类型, 状态（0正常 1停用）, 颜色类型, css 样式, 备注, 创建者, 创建时间, 更新者, 更新时间, 是否删除]\n",
      "\n",
      "system_dict_type (字典类型表): [字典主键, 字典名称, 字典类型, 状态（0正常 1停用）, 备注, 创建者, 创建时间, 更新者, 更新时间, 是否删除, 删除时间]\n",
      "\n",
      "system_employee_field_config (新拓银_配置中心_人事配置_员工扩展字段配置表): [ID, 字段名称, 字段类型（1文本框；2单选框；3复选框；4日期选择框 年/月/日；5时间选择框  时/分/秒；6图片上传；7文件上传）, 上传文件个数, 是否必填, 是否启用, 显示顺序, 创建者, 创建时间, 更新者, 更新时间, 是否删除, 租户编号]\n",
      "\n",
      "system_employee_field_option (新拓银_配置中心_人事配置_员工扩展字段选项表): [id, 关联字段id, 选项标签, 选项值, 排序, 创建者, 创建时间, 更新者, 更新时间, 是否删除, 租户编号]\n",
      "\n",
      "system_employee_field_type (新拓银_配置中心_人事配置_员工扩展字段配置表_字段数据表): [id, 字段id, 字段类型, 文本字段, 时间, 文件地址, 创建者, 创建时间, 更新者, 更新时间, 是否删除, 租户编号]\n",
      "\n",
      "system_employee_staff (新拓银_人事板块_成员管理_员工信息表): [ID, 员工姓名, 工号, 部门ID集合, 性别(0男 1女), 年龄, 专业, 人员类别, 学历, 入职日期, 离职日期, 聘用方式, 职务, 职称, 是否归国(0否 1是), 是否外籍(0否 1是), 是否千人计划(0否 1是), 手机号, 状态(1在职 0离职), 创建者, 创建时间, 更新者, 更新时间, 是否删除, 租户编号]\n",
      "\n",
      "system_employee_staff_file (新拓银_人事板块_成员管理_员工附件表): [ID, 员工ID, 文件类型(CERTIFICATE-证书 CONTRACT-合同), 文件名, 文件地址, 文件大小, 创建者, 创建时间, 更新者, 更新时间, 是否删除, 租户编号]\n",
      "\n",
      "system_employee_staff_value (新拓银_配置中心_人事配置_员工字段值表): [id, 员工id, 字段id, 文本值, 日期值, 选项值(单选/多选), 文件值, 创建者, 创建时间, 更新者, 更新时间, 是否删除, 租户编号]\n",
      "\n",
      "system_holiday_info (节假日信息表): [主键, 日期, 年份, 月份, 日, 节假日名称, 是否是节假日, 薪资倍数, 是否为补班, 补班对应的节假日, 创建时间, 更新时间]\n",
      "\n",
      "system_login_log (系统访问记录): [访问ID, 日志类型, 链路追踪编号, 用户编号, 用户类型, 用户账号, 登陆结果, 用户 IP, 浏览器 UA, 创建者, 创建时间, 更新者, 更新时间, 是否删除, 租户编号]\n",
      "\n",
      "system_mail_account (邮箱账号表): [主键, 邮箱, 用户名, 密码, SMTP 服务器域名, SMTP 服务器端口, 是否开启 SSL, 是否开启 STARTTLS, 创建者, 创建时间, 更新者, 更新时间, 是否删除]\n",
      "\n",
      "system_mail_log (邮件日志表): [编号, 用户编号, 用户类型, 接收邮箱地址, 邮箱账号编号, 发送邮箱地址, 模板编号, 模板编码, 模版发送人名称, 邮件标题, 邮件内容, 邮件参数, 发送状态, 发送时间, 发送返回的消息 ID, 发送异常, 创建者, 创建时间, 更新者, 更新时间, 是否删除]\n",
      "\n",
      "system_mail_template (邮件模版表): [编号, 模板名称, 模板编码, 发送的邮箱账号编号, 发送人名称, 模板标题, 模板内容, 参数数组, 开启状态, 备注, 创建者, 创建时间, 更新者, 更新时间, 是否删除]\n",
      "\n",
      "system_menu (菜单权限表): [菜单ID, 菜单名称, 权限标识, 菜单类型, 显示顺序, 父菜单ID, 路由地址, 菜单图标, 组件路径, 组件名, 菜单状态, 是否可见, 是否缓存, 是否总是显示, 创建者, 创建时间, 更新者, 更新时间, 是否删除, 客户端类型:0-平台 1-用户]\n",
      "\n",
      "system_notice (通知公告表): [公告ID, 公告标题, 公告内容, 公告类型（1通知 2公告）, 公告状态（0正常 1关闭）, 创建者, 创建时间, 更新者, 更新时间, 是否删除, 租户编号]\n",
      "\n",
      "system_notify_message (站内信消息表): [用户ID, 用户id, 用户类型, 模版编号, 模板编码, 模版发送人名称, 模版内容, 模版类型, 模版参数, 是否已读, 阅读时间, 创建者, 创建时间, 更新者, 更新时间, 是否删除, 租户编号]\n",
      "\n",
      "system_notify_template (站内信模板表): [主键, 模板名称, 模版编码, 发送人名称, 模版内容, 类型, 参数数组, 状态, 备注, 创建者, 创建时间, 更新者, 更新时间, 是否删除]\n",
      "\n",
      "system_oauth2_access_token (OAuth2 访问令牌): [编号, 用户编号, 用户类型, 用户信息, 访问令牌, 刷新令牌, 客户端编号, 授权范围, 过期时间, 创建者, 创建时间, 更新者, 更新时间, 是否删除, 租户编号]\n",
      "\n",
      "system_oauth2_approve (OAuth2 批准表): [编号, 用户编号, 用户类型, 客户端编号, 授权范围, 是否接受, 过期时间, 创建者, 创建时间, 更新者, 更新时间, 是否删除, 租户编号]\n",
      "\n",
      "system_oauth2_client (OAuth2 客户端表): [编号, 客户端编号, 客户端密钥, 应用名, 应用图标, 应用描述, 状态, 访问令牌的有效期, 刷新令牌的有效期, 可重定向的 URI 地址, 授权类型, 授权范围, 自动通过的授权范围, 权限, 资源, 附加信息, 创建者, 创建时间, 更新者, 更新时间, 是否删除]\n",
      "\n",
      "system_oauth2_code (OAuth2 授权码表): [编号, 用户编号, 用户类型, 授权码, 客户端编号, 授权范围, 过期时间, 可重定向的 URI 地址, 状态, 创建者, 创建时间, 更新者, 更新时间, 是否删除, 租户编号]\n",
      "\n",
      "system_oauth2_refresh_token (OAuth2 刷新令牌): [编号, 用户编号, 刷新令牌, 用户类型, 客户端编号, 授权范围, 过期时间, 创建者, 创建时间, 更新者, 更新时间, 是否删除, 租户编号]\n",
      "\n",
      "system_operate_log (操作日志记录 V2 版本): [日志主键, 链路追踪编号, 用户编号, 用户类型, 操作模块类型, 操作名, 操作数据模块编号, 操作内容, 拓展字段, 请求方法名, 请求地址, 用户 IP, 浏览器 UA, 创建者, 创建时间, 更新者, 更新时间, 是否删除, 租户编号]\n",
      "\n",
      "system_post (岗位信息表): [岗位ID, 岗位编码, 岗位名称, 显示顺序, 状态（0正常 1停用）, 备注, 创建者, 创建时间, 更新者, 更新时间, 是否删除, 租户编号]\n",
      "\n",
      "system_role (角色信息表): [角色ID, 角色名称, 角色权限字符串, 显示顺序, 数据范围（1：全部数据权限 2：自定数据权限 3：本部门数据权限 4：本部门及以下数据权限）, 数据范围(指定部门数组), 角色状态（0正常 1停用）, 角色类型, 备注, 创建者, 创建时间, 更新者, 更新时间, 是否删除, 租户编号, 角色组编号]\n",
      "\n",
      "system_role_group (企业注册): [主键, 编码, 名称, 创建者, 创建时间, 更新者, 更新时间, 是否删除, 租户编号]\n",
      "\n",
      "system_role_menu (角色和菜单关联表): [自增编号, 角色ID, 菜单ID, 创建者, 创建时间, 更新者, 更新时间, 是否删除, 租户编号]\n",
      "\n",
      "system_salary (新拓银_人事板块_工资管理_工资表): [主键ID, 员工id, 员工姓名, 工号, 部门ID集合, 部门id, 工资发放月份, 年, 月, 是否展示明细`, 工资薪金, 公积金, 补充医疗保险金额, 补充养老保险金额, 五险总金额, 养老保险金额, 失业保险金额, 医疗保险金额, 工伤保险金额, 生育保险金额, 奖金id, 奖金, 福利id, 福利费, 更新时间, 操作人, 创建时间, 创建人, 是否删除, 租户ID]\n",
      "\n",
      "system_salary_social_security (新拓银_人事板块_工资管理_社保补缴表): [主键ID, 员工id, 员工姓名, 补缴月份, 五险总金额, 养老保险金额, 失业保险金额, 医疗保险金额, 工伤保险金额, 生育保险金额, 创建时间, 创建人, 更新时间, 更新人, 是否删除, 租户ID]\n",
      "\n",
      "system_schedule_task (定时任务记录表): [主键, 考勤组id, 资产id, 任务类型：HOLIDAY_SYNC-节假日同步, ATTENDANCE_GENERATE-考勤生成, ATTENDANCE_EMPLOYEE_GENERATE 考勤员工生成, 考勤加入时间, 数据年份, 数据月份, 执行状态：WAITING-等待 SUCCESS-成功 FAILED-失败  PROCESSING-执行中, 错误信息, 开始时间, 结束时间, 创建时间, 更新时间]\n",
      "\n",
      "system_sms_channel (短信渠道): [编号, 短信签名, 渠道编码, 开启状态, 备注, 短信 API 的账号, 短信 API 的秘钥, 短信发送回调 URL, 创建者, 创建时间, 更新者, 更新时间, 是否删除]\n",
      "\n",
      "system_sms_code (手机验证码): [编号, 手机号, 验证码, 创建 IP, 发送场景, 今日发送的第几条, 是否使用, 使用时间, 使用 IP, 创建者, 创建时间, 更新者, 更新时间, 是否删除, 租户编号]\n",
      "\n",
      "system_sms_log (短信日志): [编号, 短信渠道编号, 短信渠道编码, 模板编号, 模板编码, 短信类型, 短信内容, 短信参数, 短信 API 的模板编号, 手机号, 用户编号, 用户类型, 发送状态, 发送时间, 短信 API 发送结果的编码, 短信 API 发送失败的提示, 短信 API 发送返回的唯一请求 ID, 短信 API 发送返回的序号, 接收状态, 接收时间, API 接收结果的编码, API 接收结果的说明, 创建者, 创建时间, 更新者, 更新时间, 是否删除]\n",
      "\n",
      "system_sms_template (短信模板): [编号, 模板类型, 开启状态, 模板编码, 模板名称, 模板内容, 参数数组, 备注, 短信 API 的模板编号, 短信渠道编号, 短信渠道编码, 创建者, 创建时间, 更新者, 更新时间, 是否删除]\n",
      "\n",
      "system_social_client (社交客户端表): [编号, 应用名, 社交平台的类型, 用户类型, 客户端编号, 客户端密钥, 代理编号, 状态, 创建者, 创建时间, 更新者, 更新时间, 是否删除, 租户编号]\n",
      "\n",
      "system_social_user (社交用户表): [主键(自增策略), 社交平台的类型, 社交 openid, 社交 token, 原始 Token 数据，一般是 JSON 格式, 用户昵称, 用户头像, 原始用户数据，一般是 JSON 格式, 最后一次的认证 code, 最后一次的认证 state, 创建者, 创建时间, 更新者, 更新时间, 是否删除, 租户编号]\n",
      "\n",
      "system_social_user_bind (社交绑定表): [主键(自增策略), 用户编号, 用户类型, 社交平台的类型, 社交用户的编号, 创建者, 创建时间, 更新者, 更新时间, 是否删除, 租户编号]\n",
      "\n",
      "system_tenant (租户表): [租户编号, 租户名, 联系人的用户编号, 联系人, 联系手机, 租户状态（0正常 1停用）, 绑定域名, 租户套餐编号, 过期时间, , 账号数量, 创建者, 创建时间, 更新者, 更新时间, 是否删除, 企业mingc, 社会统一信用代码, 营业执照, 业务员ID]\n",
      "\n",
      "system_tenant_attachment (租户上传的文件): [主键, 文件名, 文件路径, 创建者, 创建时间, 更新者, 更新时间, 是否删除, 租户编号]\n",
      "\n",
      "system_tenant_audit_log (企业注册申请审核日志表): [审核记录编号, 注册申请编号, 审核状态[0-待审核, 1-已通过, 2-已拒绝], 审核原因, 创建者, 创建时间, 更新者, 更新时间, 是否删除]\n",
      "\n",
      "system_tenant_notice (通知公告表): [公告id, 模版编码, 公告标题, 公告内容, 模版类型，对应 system_notify_template_type 字典, 发送时间, 租户编号数组，json 格式存储, 发送类型：1-指定用户，2-全部用户，3-指定id, 是否自定义：1-自定义，0-系统预设, 状态，参考 CommonStatusEnum 枚举, 是否显示：0-不显示，1-显示, 创建者, 创建时间, 更新者, 更新时间, 是否删除]\n",
      "\n",
      "system_tenant_operation_log (租户操作日志表): [日志编号，自增, 操作类型, 变更前数据, 变更后数据, 创建者, 创建时间, 更新者, 更新时间, 是否删除, 租户编号]\n",
      "\n",
      "system_tenant_package (租户套餐表): [套餐编号, 套餐名, 租户状态（0正常 1停用）, 备注, 关联的菜单编号, 创建者, 创建时间, 更新者, 更新时间, 是否删除]\n",
      "\n",
      "system_tenant_register (企业注册): [主键, 公司名称, 统一社会信用代码, 营业执照, 手机号码, 真实姓名, 密码, 审核状态, 审核原因, 附件列表, 创建者, 创建时间, 更新者, 更新时间, 是否删除, 租户编号, 企业信息, 租户编号]\n",
      "\n",
      "system_user_post (用户岗位表): [id, 用户ID, 岗位ID, 创建者, 创建时间, 更新者, 更新时间, 是否删除, 租户编号]\n",
      "\n",
      "system_user_role (用户和角色关联表): [自增编号, 用户ID, 角色ID, 创建者, 创建时间, 更新者, 更新时间, 是否删除, 租户编号]\n",
      "\n",
      "system_users (用户信息表): [用户ID, 用户账号, 密码, 用户昵称, 备注, 部门ID, 岗位编号数组, 用户邮箱, 手机号码, 用户性别, 头像地址, 帐号状态（0正常 1停用）, 最后登录IP, 最后登录时间, 创建者, 创建时间, 更新者, 更新时间, 是否删除, 租户编号]\n",
      "\n",
      "system_view_file (新拓银_R&D申报管理_备查文件地址): [主键id, 项目id, 文件地址, 文件名字, 年份, 创建者, 创建时间, 更新者, 更新时间, 是否删除, 租户编号]\n",
      "\n",
      "t_coupon (优惠卷表): [编号, 创建人编号, 创建日期时间, 操作人编号, 操作日期时间, 操作状态, 启用状态, 优惠金额, 失效时间, 失效状态, 使用时间, 使用状态, 优惠卷类型, 优惠卷编码, 企业名称, 统一社会信用代码, 帐号]\n",
      "\n",
      "voucher (新拓银_财务板块_凭证管理_凭证主表): [ID, 凭证日期, 是否资本化（0结转，1资本化，2费用化), 年份, 月份, 凭证类型(记1/收2/付3/转4), 凭证号, 摘要, 委托类型, 上级科目id集合, 科目代码集合, 科目名称, 凭证金额, 关联发票, 借贷方向(借/贷), 是否结转(0否 1是), 创建者, 创建时间, 更新者, 更新时间, 是否删除, 租户编号, , , , ]\n",
      "\n",
      "voucher_carry_forward_record (新拓银_财务板块_凭证管理_结转记录表): [ID, 结转日期, 年, 月, 关联的凭证ID, 凭证号, 凭证类型(记1/收2/付3/转4), 结转金额, 资本化费用, 费用化费用, 是否包含以前月份(0否 1是), 创建者, 创建时间, 更新者, 更新时间, 是否删除, 租户编号]\n",
      "\n",
      "voucher_project_detail (新拓银_财务板块_凭证管理_凭证 项目 分摊明细表): [ID, 凭证ID, 项目ID, 项目名称, 分摊金额, 成本类型(1费用化 2资本化), 创建者, 创建时间, 更新者, 更新时间, 是否删除, 租户编号]\n",
      "\n",
      "voucher_subjects (新拓银_财务板块_凭证管理_凭证科目关系表): [id, 凭证id, 科目id, 费用id, 凭证日期, 租户编号]\n",
      "\n",
      "xty_asset_amortization_log (摊销资产日志): [id, 资产id, 变动摊销时间, 变动后摊销原值, 变动后月摊销额, 操作人, 操作时间, ]\n",
      "\n",
      "xty_asset_manage (资产管理表): [id, 资产类别, 资产类型, 资产名称, 资产编码, 规格型号, 购买时间, 来源/采购/租赁, 资产原值/摊销原值, 折旧月份/摊销月份, 折旧明细/折旧明细, 月折旧额/月摊销额, 运行考勤, 启用日期 , 使用模式, 使用人员/使用部门, 操作人id, 是否同时使用, 动力类型-耗量--固定资产独有字段, 开始摊销时间--无形资产独有字段, 结束摊销时间--无形资产独有字段, 是否停机, 创建者, 创建时间, 更新者, 更新时间, 是否删除, 租户编号]\n",
      "\n",
      "xty_asset_project_hour (新拓银_人事板块_项目资产工时记录表): [id, 考勤组id, 考勤组id, 资产id, 项目id, 研发内容, 记录工时, 年, 月, 日, 开始时间, 结束时间, 创建者, 创建时间, 更新者, 更新时间, 是否删除, 租户编号]\n",
      "\n",
      "xty_asset_project_hour_period (新拓银_人事板块_考勤资产_研发工时记录表): [主键ID, 研发工时主表ID, 项目id, 研发内容, 开始时间, 结束时间, 记录工时, 创建者, 创建时间, 更新者, 更新时间, 是否删除, 租户编号]\n",
      "\n",
      "xty_asset_shift (新拓银_资产管理_资产考勤日期班次表): [id, 考勤组id, 资产id, 排班id, 记录时间, 记录工时, 年份, 月份, 当月第几天, 创建者, 创建时间, 更新者, 更新时间, 是否删除, 租户编号]\n",
      "\n",
      "xty_asset_shutdown_record (停机记录表): [id, 资产id, 停机开始时间, 停机结束时间, 资产名称, 资产名称, 停机时长, 创建者, 创建时间, 更新者, 更新时间, 是否删除, 租户编号]\n",
      "\n",
      "xty_combination_asset (组合资产表): [id, 组合资产编码, 组合资产名称, 组合时间, 资产名称, 资产id, 创建者, 创建时间, 更新者, 更新时间, 是否删除, 租户编号]\n",
      "\n",
      "xty_extraordinary_income (特殊收入表): [id, 销售时间, 特殊收入类型, 材料名称, 规格型号, 单价, 单位, 数量, 金额, 关联项目, 创建者, 创建时间, 更新者, 更新时间, 是否删除, 租户编号]\n",
      "\n",
      "xty_invoice_manage (发票管理表): [id, 发票url, 发票文件名称, 发票号码, 发票代码, 发票类型, 开票日期, 发票金额, 发票税额, 发票总额, 明细内容, 备注, 费用关联, 资产关联, 创建者, 创建时间, 更新者, 更新时间, 是否删除, 租户编号, 文件id, 文件hash, 关联费用月]\n",
      "\n",
      "xty_material_manage (物料管理表): [id, 物料类别, 物料名称, 所属项目id, 单据编号, 型号规格, 领料时间, 金额（元）, 消耗数量, 单价, 单位, 创建者, 创建时间, 更新者, 更新时间, 是否删除, 租户编号]\n",
      "\n",
      "yudao_demo01_contact (示例联系人表): [编号, 名字, 性别, 出生年, 简介, 头像, 创建者, 创建时间, 更新者, 更新时间, 是否删除, 租户编号]\n",
      "\n",
      "yudao_demo02_category (示例分类表): [编号, 名字, 父级编号, 创建者, 创建时间, 更新者, 更新时间, 是否删除, 租户编号]\n",
      "\n",
      "yudao_demo03_course (学生课程表): [编号, 学生编号, 名字, 分数, 创建者, 创建时间, 更新者, 更新时间, 是否删除, 租户编号]\n",
      "\n",
      "yudao_demo03_grade (学生班级表): [编号, 学生编号, 名字, 班主任, 创建者, 创建时间, 更新者, 更新时间, 是否删除, 租户编号]\n",
      "\n",
      "yudao_demo03_student (学生表): [编号, 名字, 性别, 出生日期, 简介, 创建者, 创建时间, 更新者, 更新时间, 是否删除, 租户编号]\n"
     ]
    }
   ],
   "source": [
    "print(db.get_database_comments())"
   ]
  },
  {
   "cell_type": "markdown",
   "id": "bb99fb37",
   "metadata": {},
   "source": [
    "## 生成SQL语句 generate_sql()"
   ]
  },
  {
   "cell_type": "code",
   "execution_count": 5,
   "id": "694ab064",
   "metadata": {},
   "outputs": [
    {
     "name": "stderr",
     "output_type": "stream",
     "text": [
      "d:\\anaconda3\\envs\\xintuoyin\\lib\\site-packages\\transformers\\generation\\configuration_utils.py:628: UserWarning: `do_sample` is set to `False`. However, `temperature` is set to `0` -- this flag is only used in sample-based generation modes. You should set `do_sample=True` or unset `temperature`.\n",
      "  warnings.warn(\n"
     ]
    },
    {
     "name": "stdout",
     "output_type": "stream",
     "text": [
      "SELECT aep.id AS employee_id,\n",
      "       SUM(aep.record_hour) AS total_hours\n",
      "FROM attendance_employee_project_hour aep\n",
      "WHERE aep.year = 2025\n",
      "  AND aep.month = 2\n",
      "GROUP BY aep.id\n",
      "ORDER BY total_hours DESC\n",
      "LIMIT 1;\n"
     ]
    }
   ],
   "source": [
    "selected_table_name = ['attendance_employee', 'attendance_employee_project_hour', 'attendance_employee_project_hour_period']\n",
    "question = \"2025年二月总工时最长的人员id是？\"\n",
    "sql_code = db.generate_sql(selected_table_name = selected_table_name, question=question)\n",
    "print(sql_code)"
   ]
  },
  {
   "cell_type": "markdown",
   "id": "8a08c424",
   "metadata": {},
   "source": [
    "## 执行SQL语句 execute_sql()"
   ]
  },
  {
   "cell_type": "code",
   "execution_count": 6,
   "id": "971867cc",
   "metadata": {},
   "outputs": [
    {
     "name": "stdout",
     "output_type": "stream",
     "text": [
      "{'rowcount': 1, 'fields': ['employee_id', 'total_hours'], 'data': [{'employee_id': 3, 'total_hours': Decimal('8.00')}]}\n"
     ]
    }
   ],
   "source": [
    "res = db.execute_sql(sql_code)\n",
    "print(res)"
   ]
  },
  {
   "cell_type": "markdown",
   "id": "2e127462",
   "metadata": {},
   "source": [
    "## 已知错误类型及解决方案"
   ]
  },
  {
   "cell_type": "markdown",
   "id": "423b86a2",
   "metadata": {},
   "source": [
    "### SQL语句存在语法错误时"
   ]
  },
  {
   "cell_type": "code",
   "execution_count": null,
   "id": "1c2cf3e6",
   "metadata": {},
   "outputs": [
    {
     "data": {
      "text/plain": [
       "{'error': '(1064, \"You have an error in your SQL syntax; check the manual that corresponds to your MySQL server version for the right syntax to use near \\'NULLS LAST\\' at line 24\")'}"
      ]
     },
     "execution_count": 14,
     "metadata": {},
     "output_type": "execute_result"
    }
   ],
   "source": [
    "wrong_SQL = '''\n",
    "SELECT aep.id AS attendance_id,\n",
    "       aep.employee_id,\n",
    "       aep.project_id,\n",
    "       aep.shift_id,\n",
    "       aep.start_time,\n",
    "       aep.end_time,\n",
    "       aep.record_hour,\n",
    "       aep.year,\n",
    "       aep.month,\n",
    "       aep.day,\n",
    "       aep.content,\n",
    "       aep.creator,\n",
    "       aep.create_time,\n",
    "       aep.updater,\n",
    "       aep.update_time,\n",
    "       aep.deleted,\n",
    "       aep.tenant_id\n",
    "FROM attendance_employee_project_hour aep\n",
    "WHERE aep.employee_id IN\n",
    "    (SELECT aep2.employee_id\n",
    "     FROM attendance_employee_project_hour aep2\n",
    "     GROUP BY aep2.employee_id\n",
    "     HAVING COUNT(DISTINCT aep2.project_id) > 1)\n",
    "ORDER BY aep.employee_id NULLS LAST;'''.strip()\n",
    "res = db.execute_sql(wrong_SQL)\n",
    "res"
   ]
  },
  {
   "cell_type": "code",
   "execution_count": null,
   "id": "0c4e4206",
   "metadata": {},
   "outputs": [
    {
     "name": "stdout",
     "output_type": "stream",
     "text": [
      "以下是一个在MySQL上执行的语句：\n",
      "SELECT aep.id AS attendance_id,\n",
      "       aep.employee_id,\n",
      "       aep.project_id,\n",
      "       aep.shift_id,\n",
      "       aep.start_time,\n",
      "       aep.end_time,\n",
      "       aep.record_hour,\n",
      "       aep.year,\n",
      "       aep.month,\n",
      "       aep.day,\n",
      "       aep.content,\n",
      "       aep.creator,\n",
      "       aep.create_time,\n",
      "       aep.updater,\n",
      "       aep.update_time,\n",
      "       aep.deleted,\n",
      "       aep.tenant_id\n",
      "FROM attendance_employee_project_hour aep\n",
      "WHERE aep.employee_id IN\n",
      "    (SELECT aep2.employee_id\n",
      "     FROM attendance_employee_project_hour aep2\n",
      "     GROUP BY aep2.employee_id\n",
      "     HAVING COUNT(DISTINCT aep2.project_id) > 1)\n",
      "ORDER BY aep.employee_id NULLS LAST;\n",
      "\n",
      "发生报错：(1064, \"You have an error in your SQL syntax; check the manual that corresponds to your MySQL server version for the right syntax to use near 'NULLS LAST' at line 24\")\n",
      "\n",
      "请你修改给出正确的SQL语句，用<SQL>xxx<\\SQL>形式给出修改后的SQL语句。\n"
     ]
    }
   ],
   "source": [
    "revise_prompt ='''\n",
    "以下是一个在MySQL上执行的语句：\n",
    "{wrong_sql}\n",
    "\n",
    "发生报错：{error}\n",
    "\n",
    "请你修改给出正确的SQL语句，用<SQL>xxx</SQL>形式给出修改后的SQL语句。\n",
    "'''.strip()\n",
    "\n",
    "print(revise_prompt.format(wrong_sql=wrong_SQL, error=res['error']))"
   ]
  },
  {
   "cell_type": "markdown",
   "id": "30595067",
   "metadata": {},
   "source": [
    "通过chatgpt针对该prompt的回复"
   ]
  },
  {
   "cell_type": "code",
   "execution_count": 18,
   "id": "8aec670c",
   "metadata": {},
   "outputs": [],
   "source": [
    "response='''\n",
    "MySQL 不支持 `NULLS LAST` 语法，这是 PostgreSQL 的语法。在 MySQL 中，如果你想让 `NULL` 出现在最后，可以使用 `IS NULL` 条件配合排序逻辑进行替代。\n",
    "\n",
    "你可以将 `ORDER BY aep.employee_id NULLS LAST` 替换为如下等效形式：\n",
    "\n",
    "```sql\n",
    "ORDER BY aep.employee_id IS NULL, aep.employee_id\n",
    "```\n",
    "\n",
    "这会先按 `aep.employee_id IS NULL` 排序（`FALSE` 在前，`TRUE` 在后），再按 `aep.employee_id` 本身排序。\n",
    "\n",
    "修改后的 SQL 如下所示：\n",
    "\n",
    "<SQL>\n",
    "SELECT aep.id AS attendance_id,  \n",
    "       aep.employee_id,  \n",
    "       aep.project_id,  \n",
    "       aep.shift_id,  \n",
    "       aep.start_time,  \n",
    "       aep.end_time,  \n",
    "       aep.record_hour,  \n",
    "       aep.year,  \n",
    "       aep.month,  \n",
    "       aep.day,  \n",
    "       aep.content,  \n",
    "       aep.creator,  \n",
    "       aep.create_time,  \n",
    "       aep.updater,  \n",
    "       aep.update_time,  \n",
    "       aep.deleted,  \n",
    "       aep.tenant_id  \n",
    "FROM attendance_employee_project_hour aep  \n",
    "WHERE aep.employee_id IN  \n",
    "    (SELECT aep2.employee_id  \n",
    "     FROM attendance_employee_project_hour aep2  \n",
    "     GROUP BY aep2.employee_id  \n",
    "     HAVING COUNT(DISTINCT aep2.project_id) > 1)  \n",
    "ORDER BY aep.employee_id IS NULL, aep.employee_id;\n",
    "</SQL>\n",
    "\n",
    "是否还需要按其他字段排序或进一步筛选？\n",
    "'''.strip()"
   ]
  },
  {
   "cell_type": "code",
   "execution_count": 20,
   "id": "fda17d82",
   "metadata": {},
   "outputs": [
    {
     "name": "stdout",
     "output_type": "stream",
     "text": [
      "SELECT aep.id AS attendance_id,  \n",
      "       aep.employee_id,  \n",
      "       aep.project_id,  \n",
      "       aep.shift_id,  \n",
      "       aep.start_time,  \n",
      "       aep.end_time,  \n",
      "       aep.record_hour,  \n",
      "       aep.year,  \n",
      "       aep.month,  \n",
      "       aep.day,  \n",
      "       aep.content,  \n",
      "       aep.creator,  \n",
      "       aep.create_time,  \n",
      "       aep.updater,  \n",
      "       aep.update_time,  \n",
      "       aep.deleted,  \n",
      "       aep.tenant_id  \n",
      "FROM attendance_employee_project_hour aep  \n",
      "WHERE aep.employee_id IN  \n",
      "    (SELECT aep2.employee_id  \n",
      "     FROM attendance_employee_project_hour aep2  \n",
      "     GROUP BY aep2.employee_id  \n",
      "     HAVING COUNT(DISTINCT aep2.project_id) > 1)  \n",
      "ORDER BY aep.employee_id IS NULL, aep.employee_id;\n"
     ]
    }
   ],
   "source": [
    "import re\n",
    "\n",
    "def extract_sql(text):\n",
    "    # 使用正则表达式提取 <SQL> 和 </SQL> 之间的内容\n",
    "    match = re.search(r\"<SQL>(.*?)</SQL>\", text, re.DOTALL)\n",
    "    if match:\n",
    "        return match.group(1).strip()\n",
    "    return None\n",
    "sql_code = extract_sql(response).strip()\n",
    "print(sql_code)"
   ]
  },
  {
   "cell_type": "code",
   "execution_count": null,
   "id": "e29c7388",
   "metadata": {},
   "outputs": [
    {
     "data": {
      "text/plain": [
       "{'rowcount': 0,\n",
       " 'fields': ['attendance_id',\n",
       "  'employee_id',\n",
       "  'project_id',\n",
       "  'shift_id',\n",
       "  'start_time',\n",
       "  'end_time',\n",
       "  'record_hour',\n",
       "  'year',\n",
       "  'month',\n",
       "  'day',\n",
       "  'content',\n",
       "  'creator',\n",
       "  'create_time',\n",
       "  'updater',\n",
       "  'update_time',\n",
       "  'deleted',\n",
       "  'tenant_id'],\n",
       " 'data': []}"
      ]
     },
     "execution_count": 24,
     "metadata": {},
     "output_type": "execute_result"
    }
   ],
   "source": [
    "res = db.execute_sql(sql_code)\n",
    "res"
   ]
  },
  {
   "cell_type": "markdown",
   "id": "6f4d87c8",
   "metadata": {},
   "source": [
    "### 连接超时"
   ]
  },
  {
   "cell_type": "code",
   "execution_count": 21,
   "id": "fd38f553",
   "metadata": {},
   "outputs": [
    {
     "data": {
      "text/plain": [
       "{'error': \"(2013, 'Lost connection to MySQL server during query ([WinError 10060] 由于连接方在一段时间后没有正确答复或连接的主机没有反应，连接尝试失败。)')\"}"
      ]
     },
     "execution_count": 21,
     "metadata": {},
     "output_type": "execute_result"
    }
   ],
   "source": [
    "res = db.execute_sql(sql_code)\n",
    "res"
   ]
  },
  {
   "cell_type": "markdown",
   "id": "e96fa168",
   "metadata": {},
   "source": [
    "- 重连调用如下方法\n",
    "- 等待是否有用尚不清楚"
   ]
  },
  {
   "cell_type": "code",
   "execution_count": null,
   "id": "f59ae684",
   "metadata": {},
   "outputs": [],
   "source": [
    "db._init_mysql()"
   ]
  }
 ],
 "metadata": {
  "kernelspec": {
   "display_name": "xintuoyin",
   "language": "python",
   "name": "python3"
  },
  "language_info": {
   "codemirror_mode": {
    "name": "ipython",
    "version": 3
   },
   "file_extension": ".py",
   "mimetype": "text/x-python",
   "name": "python",
   "nbconvert_exporter": "python",
   "pygments_lexer": "ipython3",
   "version": "3.10.16"
  }
 },
 "nbformat": 4,
 "nbformat_minor": 5
}
